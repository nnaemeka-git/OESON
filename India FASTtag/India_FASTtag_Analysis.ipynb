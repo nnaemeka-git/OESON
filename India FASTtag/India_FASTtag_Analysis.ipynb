{
  "nbformat": 4,
  "nbformat_minor": 0,
  "metadata": {
    "colab": {
      "provenance": []
    },
    "kernelspec": {
      "name": "python3",
      "display_name": "Python 3"
    },
    "language_info": {
      "name": "python"
    }
  },
  "cells": [
    {
      "cell_type": "markdown",
      "source": [
        "## Statistical Analysis of the \"FastagFraudDetection.csv\". This analysis is focused on identifying fraudulent transactions related to the Fastag system, which is used for electronic toll collection on highways. The dataset includes detailed information about each transaction, including the vehicle type, toll booth, lane type, transaction amounts, and more."
      ],
      "metadata": {
        "id": "JvA5WDvvVz5B"
      }
    },
    {
      "cell_type": "code",
      "execution_count": 94,
      "metadata": {
        "id": "mHtguNv1Y3an"
      },
      "outputs": [],
      "source": [
        "import pandas as pd\n",
        "import numpy as np\n",
        "import matplotlib.pyplot as plt\n",
        "import seaborn as sns\n",
        "from scipy.stats import ttest_ind, chi2_contingency, f_oneway\n",
        "import warnings\n",
        "warnings.filterwarnings('ignore')"
      ]
    },
    {
      "cell_type": "code",
      "source": [
        "data = pd.read_csv('/content/drive/MyDrive/OESON Internship/EDA/FastagFraudDetection.csv')"
      ],
      "metadata": {
        "id": "83UC9_WtY_ez"
      },
      "execution_count": 95,
      "outputs": []
    },
    {
      "cell_type": "code",
      "source": [
        "data.head(5)"
      ],
      "metadata": {
        "colab": {
          "base_uri": "https://localhost:8080/",
          "height": 313
        },
        "id": "_TZZNA_HY_jR",
        "outputId": "7e3a733f-e79c-400d-a2b1-7f9e79f0af78"
      },
      "execution_count": 96,
      "outputs": [
        {
          "output_type": "execute_result",
          "data": {
            "text/plain": [
              "   Transaction_ID       Timestamp Vehicle_Type         FastagID TollBoothID  \\\n",
              "0               1  1/6/2023 11:20         Bus   FTG-001-ABC-121       A-101   \n",
              "1               2  1/7/2023 14:55          Car  FTG-002-XYZ-451       B-102   \n",
              "2               3  1/8/2023 18:25   Motorcycle              NaN       D-104   \n",
              "3               4   1/9/2023 2:05        Truck  FTG-044-LMN-322       C-103   \n",
              "4               5  1/10/2023 6:35          Van  FTG-505-DEF-652       B-102   \n",
              "\n",
              "  Lane_Type Vehicle_Dimensions  Transaction_Amount  Amount_paid  \\\n",
              "0   Express              Large                 350          120   \n",
              "1   Regular              Small                 120          100   \n",
              "2   Regular              Small                   0            0   \n",
              "3   Regular              Large                 350          120   \n",
              "4   Express             Medium                 140          100   \n",
              "\n",
              "                   Geographical_Location  Vehicle_Speed Vehicle_Plate_Number  \\\n",
              "0  13.059816123454882, 77.77068662374292             65           KA11AB1234   \n",
              "1  13.059816123454882, 77.77068662374292             78           KA66CD5678   \n",
              "2  13.059816123454882, 77.77068662374292             53           KA88EF9012   \n",
              "3  13.059816123454882, 77.77068662374292             92           KA11GH3456   \n",
              "4  13.059816123454882, 77.77068662374292             60           KA44IJ6789   \n",
              "\n",
              "  Fraud_indicator  \n",
              "0           Fraud  \n",
              "1           Fraud  \n",
              "2       Not Fraud  \n",
              "3           Fraud  \n",
              "4           Fraud  "
            ],
            "text/html": [
              "\n",
              "  <div id=\"df-620a72d2-f999-4dc8-852a-b5924350ca7e\" class=\"colab-df-container\">\n",
              "    <div>\n",
              "<style scoped>\n",
              "    .dataframe tbody tr th:only-of-type {\n",
              "        vertical-align: middle;\n",
              "    }\n",
              "\n",
              "    .dataframe tbody tr th {\n",
              "        vertical-align: top;\n",
              "    }\n",
              "\n",
              "    .dataframe thead th {\n",
              "        text-align: right;\n",
              "    }\n",
              "</style>\n",
              "<table border=\"1\" class=\"dataframe\">\n",
              "  <thead>\n",
              "    <tr style=\"text-align: right;\">\n",
              "      <th></th>\n",
              "      <th>Transaction_ID</th>\n",
              "      <th>Timestamp</th>\n",
              "      <th>Vehicle_Type</th>\n",
              "      <th>FastagID</th>\n",
              "      <th>TollBoothID</th>\n",
              "      <th>Lane_Type</th>\n",
              "      <th>Vehicle_Dimensions</th>\n",
              "      <th>Transaction_Amount</th>\n",
              "      <th>Amount_paid</th>\n",
              "      <th>Geographical_Location</th>\n",
              "      <th>Vehicle_Speed</th>\n",
              "      <th>Vehicle_Plate_Number</th>\n",
              "      <th>Fraud_indicator</th>\n",
              "    </tr>\n",
              "  </thead>\n",
              "  <tbody>\n",
              "    <tr>\n",
              "      <th>0</th>\n",
              "      <td>1</td>\n",
              "      <td>1/6/2023 11:20</td>\n",
              "      <td>Bus</td>\n",
              "      <td>FTG-001-ABC-121</td>\n",
              "      <td>A-101</td>\n",
              "      <td>Express</td>\n",
              "      <td>Large</td>\n",
              "      <td>350</td>\n",
              "      <td>120</td>\n",
              "      <td>13.059816123454882, 77.77068662374292</td>\n",
              "      <td>65</td>\n",
              "      <td>KA11AB1234</td>\n",
              "      <td>Fraud</td>\n",
              "    </tr>\n",
              "    <tr>\n",
              "      <th>1</th>\n",
              "      <td>2</td>\n",
              "      <td>1/7/2023 14:55</td>\n",
              "      <td>Car</td>\n",
              "      <td>FTG-002-XYZ-451</td>\n",
              "      <td>B-102</td>\n",
              "      <td>Regular</td>\n",
              "      <td>Small</td>\n",
              "      <td>120</td>\n",
              "      <td>100</td>\n",
              "      <td>13.059816123454882, 77.77068662374292</td>\n",
              "      <td>78</td>\n",
              "      <td>KA66CD5678</td>\n",
              "      <td>Fraud</td>\n",
              "    </tr>\n",
              "    <tr>\n",
              "      <th>2</th>\n",
              "      <td>3</td>\n",
              "      <td>1/8/2023 18:25</td>\n",
              "      <td>Motorcycle</td>\n",
              "      <td>NaN</td>\n",
              "      <td>D-104</td>\n",
              "      <td>Regular</td>\n",
              "      <td>Small</td>\n",
              "      <td>0</td>\n",
              "      <td>0</td>\n",
              "      <td>13.059816123454882, 77.77068662374292</td>\n",
              "      <td>53</td>\n",
              "      <td>KA88EF9012</td>\n",
              "      <td>Not Fraud</td>\n",
              "    </tr>\n",
              "    <tr>\n",
              "      <th>3</th>\n",
              "      <td>4</td>\n",
              "      <td>1/9/2023 2:05</td>\n",
              "      <td>Truck</td>\n",
              "      <td>FTG-044-LMN-322</td>\n",
              "      <td>C-103</td>\n",
              "      <td>Regular</td>\n",
              "      <td>Large</td>\n",
              "      <td>350</td>\n",
              "      <td>120</td>\n",
              "      <td>13.059816123454882, 77.77068662374292</td>\n",
              "      <td>92</td>\n",
              "      <td>KA11GH3456</td>\n",
              "      <td>Fraud</td>\n",
              "    </tr>\n",
              "    <tr>\n",
              "      <th>4</th>\n",
              "      <td>5</td>\n",
              "      <td>1/10/2023 6:35</td>\n",
              "      <td>Van</td>\n",
              "      <td>FTG-505-DEF-652</td>\n",
              "      <td>B-102</td>\n",
              "      <td>Express</td>\n",
              "      <td>Medium</td>\n",
              "      <td>140</td>\n",
              "      <td>100</td>\n",
              "      <td>13.059816123454882, 77.77068662374292</td>\n",
              "      <td>60</td>\n",
              "      <td>KA44IJ6789</td>\n",
              "      <td>Fraud</td>\n",
              "    </tr>\n",
              "  </tbody>\n",
              "</table>\n",
              "</div>\n",
              "    <div class=\"colab-df-buttons\">\n",
              "\n",
              "  <div class=\"colab-df-container\">\n",
              "    <button class=\"colab-df-convert\" onclick=\"convertToInteractive('df-620a72d2-f999-4dc8-852a-b5924350ca7e')\"\n",
              "            title=\"Convert this dataframe to an interactive table.\"\n",
              "            style=\"display:none;\">\n",
              "\n",
              "  <svg xmlns=\"http://www.w3.org/2000/svg\" height=\"24px\" viewBox=\"0 -960 960 960\">\n",
              "    <path d=\"M120-120v-720h720v720H120Zm60-500h600v-160H180v160Zm220 220h160v-160H400v160Zm0 220h160v-160H400v160ZM180-400h160v-160H180v160Zm440 0h160v-160H620v160ZM180-180h160v-160H180v160Zm440 0h160v-160H620v160Z\"/>\n",
              "  </svg>\n",
              "    </button>\n",
              "\n",
              "  <style>\n",
              "    .colab-df-container {\n",
              "      display:flex;\n",
              "      gap: 12px;\n",
              "    }\n",
              "\n",
              "    .colab-df-convert {\n",
              "      background-color: #E8F0FE;\n",
              "      border: none;\n",
              "      border-radius: 50%;\n",
              "      cursor: pointer;\n",
              "      display: none;\n",
              "      fill: #1967D2;\n",
              "      height: 32px;\n",
              "      padding: 0 0 0 0;\n",
              "      width: 32px;\n",
              "    }\n",
              "\n",
              "    .colab-df-convert:hover {\n",
              "      background-color: #E2EBFA;\n",
              "      box-shadow: 0px 1px 2px rgba(60, 64, 67, 0.3), 0px 1px 3px 1px rgba(60, 64, 67, 0.15);\n",
              "      fill: #174EA6;\n",
              "    }\n",
              "\n",
              "    .colab-df-buttons div {\n",
              "      margin-bottom: 4px;\n",
              "    }\n",
              "\n",
              "    [theme=dark] .colab-df-convert {\n",
              "      background-color: #3B4455;\n",
              "      fill: #D2E3FC;\n",
              "    }\n",
              "\n",
              "    [theme=dark] .colab-df-convert:hover {\n",
              "      background-color: #434B5C;\n",
              "      box-shadow: 0px 1px 3px 1px rgba(0, 0, 0, 0.15);\n",
              "      filter: drop-shadow(0px 1px 2px rgba(0, 0, 0, 0.3));\n",
              "      fill: #FFFFFF;\n",
              "    }\n",
              "  </style>\n",
              "\n",
              "    <script>\n",
              "      const buttonEl =\n",
              "        document.querySelector('#df-620a72d2-f999-4dc8-852a-b5924350ca7e button.colab-df-convert');\n",
              "      buttonEl.style.display =\n",
              "        google.colab.kernel.accessAllowed ? 'block' : 'none';\n",
              "\n",
              "      async function convertToInteractive(key) {\n",
              "        const element = document.querySelector('#df-620a72d2-f999-4dc8-852a-b5924350ca7e');\n",
              "        const dataTable =\n",
              "          await google.colab.kernel.invokeFunction('convertToInteractive',\n",
              "                                                    [key], {});\n",
              "        if (!dataTable) return;\n",
              "\n",
              "        const docLinkHtml = 'Like what you see? Visit the ' +\n",
              "          '<a target=\"_blank\" href=https://colab.research.google.com/notebooks/data_table.ipynb>data table notebook</a>'\n",
              "          + ' to learn more about interactive tables.';\n",
              "        element.innerHTML = '';\n",
              "        dataTable['output_type'] = 'display_data';\n",
              "        await google.colab.output.renderOutput(dataTable, element);\n",
              "        const docLink = document.createElement('div');\n",
              "        docLink.innerHTML = docLinkHtml;\n",
              "        element.appendChild(docLink);\n",
              "      }\n",
              "    </script>\n",
              "  </div>\n",
              "\n",
              "\n",
              "<div id=\"df-64c4683e-c305-4456-9d2c-4877a4bc311d\">\n",
              "  <button class=\"colab-df-quickchart\" onclick=\"quickchart('df-64c4683e-c305-4456-9d2c-4877a4bc311d')\"\n",
              "            title=\"Suggest charts\"\n",
              "            style=\"display:none;\">\n",
              "\n",
              "<svg xmlns=\"http://www.w3.org/2000/svg\" height=\"24px\"viewBox=\"0 0 24 24\"\n",
              "     width=\"24px\">\n",
              "    <g>\n",
              "        <path d=\"M19 3H5c-1.1 0-2 .9-2 2v14c0 1.1.9 2 2 2h14c1.1 0 2-.9 2-2V5c0-1.1-.9-2-2-2zM9 17H7v-7h2v7zm4 0h-2V7h2v10zm4 0h-2v-4h2v4z\"/>\n",
              "    </g>\n",
              "</svg>\n",
              "  </button>\n",
              "\n",
              "<style>\n",
              "  .colab-df-quickchart {\n",
              "      --bg-color: #E8F0FE;\n",
              "      --fill-color: #1967D2;\n",
              "      --hover-bg-color: #E2EBFA;\n",
              "      --hover-fill-color: #174EA6;\n",
              "      --disabled-fill-color: #AAA;\n",
              "      --disabled-bg-color: #DDD;\n",
              "  }\n",
              "\n",
              "  [theme=dark] .colab-df-quickchart {\n",
              "      --bg-color: #3B4455;\n",
              "      --fill-color: #D2E3FC;\n",
              "      --hover-bg-color: #434B5C;\n",
              "      --hover-fill-color: #FFFFFF;\n",
              "      --disabled-bg-color: #3B4455;\n",
              "      --disabled-fill-color: #666;\n",
              "  }\n",
              "\n",
              "  .colab-df-quickchart {\n",
              "    background-color: var(--bg-color);\n",
              "    border: none;\n",
              "    border-radius: 50%;\n",
              "    cursor: pointer;\n",
              "    display: none;\n",
              "    fill: var(--fill-color);\n",
              "    height: 32px;\n",
              "    padding: 0;\n",
              "    width: 32px;\n",
              "  }\n",
              "\n",
              "  .colab-df-quickchart:hover {\n",
              "    background-color: var(--hover-bg-color);\n",
              "    box-shadow: 0 1px 2px rgba(60, 64, 67, 0.3), 0 1px 3px 1px rgba(60, 64, 67, 0.15);\n",
              "    fill: var(--button-hover-fill-color);\n",
              "  }\n",
              "\n",
              "  .colab-df-quickchart-complete:disabled,\n",
              "  .colab-df-quickchart-complete:disabled:hover {\n",
              "    background-color: var(--disabled-bg-color);\n",
              "    fill: var(--disabled-fill-color);\n",
              "    box-shadow: none;\n",
              "  }\n",
              "\n",
              "  .colab-df-spinner {\n",
              "    border: 2px solid var(--fill-color);\n",
              "    border-color: transparent;\n",
              "    border-bottom-color: var(--fill-color);\n",
              "    animation:\n",
              "      spin 1s steps(1) infinite;\n",
              "  }\n",
              "\n",
              "  @keyframes spin {\n",
              "    0% {\n",
              "      border-color: transparent;\n",
              "      border-bottom-color: var(--fill-color);\n",
              "      border-left-color: var(--fill-color);\n",
              "    }\n",
              "    20% {\n",
              "      border-color: transparent;\n",
              "      border-left-color: var(--fill-color);\n",
              "      border-top-color: var(--fill-color);\n",
              "    }\n",
              "    30% {\n",
              "      border-color: transparent;\n",
              "      border-left-color: var(--fill-color);\n",
              "      border-top-color: var(--fill-color);\n",
              "      border-right-color: var(--fill-color);\n",
              "    }\n",
              "    40% {\n",
              "      border-color: transparent;\n",
              "      border-right-color: var(--fill-color);\n",
              "      border-top-color: var(--fill-color);\n",
              "    }\n",
              "    60% {\n",
              "      border-color: transparent;\n",
              "      border-right-color: var(--fill-color);\n",
              "    }\n",
              "    80% {\n",
              "      border-color: transparent;\n",
              "      border-right-color: var(--fill-color);\n",
              "      border-bottom-color: var(--fill-color);\n",
              "    }\n",
              "    90% {\n",
              "      border-color: transparent;\n",
              "      border-bottom-color: var(--fill-color);\n",
              "    }\n",
              "  }\n",
              "</style>\n",
              "\n",
              "  <script>\n",
              "    async function quickchart(key) {\n",
              "      const quickchartButtonEl =\n",
              "        document.querySelector('#' + key + ' button');\n",
              "      quickchartButtonEl.disabled = true;  // To prevent multiple clicks.\n",
              "      quickchartButtonEl.classList.add('colab-df-spinner');\n",
              "      try {\n",
              "        const charts = await google.colab.kernel.invokeFunction(\n",
              "            'suggestCharts', [key], {});\n",
              "      } catch (error) {\n",
              "        console.error('Error during call to suggestCharts:', error);\n",
              "      }\n",
              "      quickchartButtonEl.classList.remove('colab-df-spinner');\n",
              "      quickchartButtonEl.classList.add('colab-df-quickchart-complete');\n",
              "    }\n",
              "    (() => {\n",
              "      let quickchartButtonEl =\n",
              "        document.querySelector('#df-64c4683e-c305-4456-9d2c-4877a4bc311d button');\n",
              "      quickchartButtonEl.style.display =\n",
              "        google.colab.kernel.accessAllowed ? 'block' : 'none';\n",
              "    })();\n",
              "  </script>\n",
              "</div>\n",
              "\n",
              "    </div>\n",
              "  </div>\n"
            ],
            "application/vnd.google.colaboratory.intrinsic+json": {
              "type": "dataframe",
              "variable_name": "data",
              "summary": "{\n  \"name\": \"data\",\n  \"rows\": 5000,\n  \"fields\": [\n    {\n      \"column\": \"Transaction_ID\",\n      \"properties\": {\n        \"dtype\": \"number\",\n        \"std\": 1443,\n        \"min\": 1,\n        \"max\": 5000,\n        \"num_unique_values\": 5000,\n        \"samples\": [\n          1502,\n          2587,\n          2654\n        ],\n        \"semantic_type\": \"\",\n        \"description\": \"\"\n      }\n    },\n    {\n      \"column\": \"Timestamp\",\n      \"properties\": {\n        \"dtype\": \"object\",\n        \"num_unique_values\": 4423,\n        \"samples\": [\n          \"6/25/2023 7:17\",\n          \"10/22/2023 2:04\",\n          \"2/5/2023 0:42\"\n        ],\n        \"semantic_type\": \"\",\n        \"description\": \"\"\n      }\n    },\n    {\n      \"column\": \"Vehicle_Type\",\n      \"properties\": {\n        \"dtype\": \"category\",\n        \"num_unique_values\": 7,\n        \"samples\": [\n          \"Bus \",\n          \"Car\",\n          \"Sedan\"\n        ],\n        \"semantic_type\": \"\",\n        \"description\": \"\"\n      }\n    },\n    {\n      \"column\": \"FastagID\",\n      \"properties\": {\n        \"dtype\": \"string\",\n        \"num_unique_values\": 4451,\n        \"samples\": [\n          \"FTG-580-DEF-850\",\n          \"FTG-083-PQR-333\",\n          \"FTG-125-EDC-765\"\n        ],\n        \"semantic_type\": \"\",\n        \"description\": \"\"\n      }\n    },\n    {\n      \"column\": \"TollBoothID\",\n      \"properties\": {\n        \"dtype\": \"category\",\n        \"num_unique_values\": 6,\n        \"samples\": [\n          \"A-101\",\n          \"B-102\",\n          \"D-106\"\n        ],\n        \"semantic_type\": \"\",\n        \"description\": \"\"\n      }\n    },\n    {\n      \"column\": \"Lane_Type\",\n      \"properties\": {\n        \"dtype\": \"category\",\n        \"num_unique_values\": 2,\n        \"samples\": [\n          \"Regular\",\n          \"Express\"\n        ],\n        \"semantic_type\": \"\",\n        \"description\": \"\"\n      }\n    },\n    {\n      \"column\": \"Vehicle_Dimensions\",\n      \"properties\": {\n        \"dtype\": \"category\",\n        \"num_unique_values\": 3,\n        \"samples\": [\n          \"Large\",\n          \"Small\"\n        ],\n        \"semantic_type\": \"\",\n        \"description\": \"\"\n      }\n    },\n    {\n      \"column\": \"Transaction_Amount\",\n      \"properties\": {\n        \"dtype\": \"number\",\n        \"std\": 112,\n        \"min\": 0,\n        \"max\": 350,\n        \"num_unique_values\": 20,\n        \"samples\": [\n          350,\n          330\n        ],\n        \"semantic_type\": \"\",\n        \"description\": \"\"\n      }\n    },\n    {\n      \"column\": \"Amount_paid\",\n      \"properties\": {\n        \"dtype\": \"number\",\n        \"std\": 106,\n        \"min\": 0,\n        \"max\": 350,\n        \"num_unique_values\": 23,\n        \"samples\": [\n          340,\n          60\n        ],\n        \"semantic_type\": \"\",\n        \"description\": \"\"\n      }\n    },\n    {\n      \"column\": \"Geographical_Location\",\n      \"properties\": {\n        \"dtype\": \"category\",\n        \"num_unique_values\": 5,\n        \"samples\": [\n          \"13.042660878688794, 77.47580097259879\",\n          \"13.21331620748757, 77.55413526894684\"\n        ],\n        \"semantic_type\": \"\",\n        \"description\": \"\"\n      }\n    },\n    {\n      \"column\": \"Vehicle_Speed\",\n      \"properties\": {\n        \"dtype\": \"number\",\n        \"std\": 16,\n        \"min\": 10,\n        \"max\": 118,\n        \"num_unique_values\": 85,\n        \"samples\": [\n          35,\n          65\n        ],\n        \"semantic_type\": \"\",\n        \"description\": \"\"\n      }\n    },\n    {\n      \"column\": \"Vehicle_Plate_Number\",\n      \"properties\": {\n        \"dtype\": \"string\",\n        \"num_unique_values\": 5000,\n        \"samples\": [\n          \"KA05CD5678\",\n          \"KA67LM4267\"\n        ],\n        \"semantic_type\": \"\",\n        \"description\": \"\"\n      }\n    },\n    {\n      \"column\": \"Fraud_indicator\",\n      \"properties\": {\n        \"dtype\": \"category\",\n        \"num_unique_values\": 2,\n        \"samples\": [\n          \"Not Fraud\",\n          \"Fraud\"\n        ],\n        \"semantic_type\": \"\",\n        \"description\": \"\"\n      }\n    }\n  ]\n}"
            }
          },
          "metadata": {},
          "execution_count": 96
        }
      ]
    },
    {
      "cell_type": "code",
      "source": [
        "# Remove records where both Transaction_Amount and Amount_paid are zero\n",
        "data = data[(data['Transaction_Amount'] != 0) | (data['Amount_paid'] != 0)]\n",
        "data.shape"
      ],
      "metadata": {
        "colab": {
          "base_uri": "https://localhost:8080/"
        },
        "id": "PKo3t511s419",
        "outputId": "d478008d-d000-4f05-ebb5-889343d88007"
      },
      "execution_count": 97,
      "outputs": [
        {
          "output_type": "execute_result",
          "data": {
            "text/plain": [
              "(4286, 13)"
            ]
          },
          "metadata": {},
          "execution_count": 97
        }
      ]
    },
    {
      "cell_type": "code",
      "source": [
        "#Export  Interest rate Dataset to google drive\n",
        "# path = '/content/drive/MyDrive/OESON Internship/EDA/FastagFraud_no_zero.csv'\n",
        "# with open(path, 'w', encoding = 'utf-8-sig') as f:\n",
        "#   data.to_csv(f)\n"
      ],
      "metadata": {
        "id": "9oQZIrapuZSH"
      },
      "execution_count": 98,
      "outputs": []
    },
    {
      "cell_type": "markdown",
      "source": [
        "# Check for missing values"
      ],
      "metadata": {
        "id": "w5PVsimebLq1"
      }
    },
    {
      "cell_type": "code",
      "source": [
        "data.isnull().sum()"
      ],
      "metadata": {
        "colab": {
          "base_uri": "https://localhost:8080/"
        },
        "id": "7K0Wp2CNY_sc",
        "outputId": "b571f380-2645-4851-a744-288ecf2f261d"
      },
      "execution_count": 99,
      "outputs": [
        {
          "output_type": "execute_result",
          "data": {
            "text/plain": [
              "Transaction_ID           0\n",
              "Timestamp                0\n",
              "Vehicle_Type             0\n",
              "FastagID                 0\n",
              "TollBoothID              0\n",
              "Lane_Type                0\n",
              "Vehicle_Dimensions       0\n",
              "Transaction_Amount       0\n",
              "Amount_paid              0\n",
              "Geographical_Location    0\n",
              "Vehicle_Speed            0\n",
              "Vehicle_Plate_Number     0\n",
              "Fraud_indicator          0\n",
              "dtype: int64"
            ]
          },
          "metadata": {},
          "execution_count": 99
        }
      ]
    },
    {
      "cell_type": "markdown",
      "source": [
        "#### Replace missing values from mean and median for numeric columns only"
      ],
      "metadata": {
        "id": "iGXMCxQacD8W"
      }
    },
    {
      "cell_type": "code",
      "source": [
        "data.fillna(data.mean(numeric_only=True), inplace=True)"
      ],
      "metadata": {
        "id": "P-FpANX1byL1"
      },
      "execution_count": 100,
      "outputs": []
    },
    {
      "cell_type": "markdown",
      "source": [
        "#### Replace missing values from mode for categorical columns only"
      ],
      "metadata": {
        "id": "tcW9qUpAcN08"
      }
    },
    {
      "cell_type": "code",
      "source": [
        "data['FastagID'].fillna(data['FastagID'].mode().iloc[0], inplace=True)"
      ],
      "metadata": {
        "id": "f6DO3A7dbyOc"
      },
      "execution_count": 101,
      "outputs": []
    },
    {
      "cell_type": "markdown",
      "source": [
        "#### Verify missing values"
      ],
      "metadata": {
        "id": "tDoguta9dgIW"
      }
    },
    {
      "cell_type": "code",
      "source": [
        "data.isnull().sum()"
      ],
      "metadata": {
        "colab": {
          "base_uri": "https://localhost:8080/"
        },
        "id": "6_AKavb_byRj",
        "outputId": "a8f50ccd-f96b-4195-9b4c-90d654699336"
      },
      "execution_count": 102,
      "outputs": [
        {
          "output_type": "execute_result",
          "data": {
            "text/plain": [
              "Transaction_ID           0\n",
              "Timestamp                0\n",
              "Vehicle_Type             0\n",
              "FastagID                 0\n",
              "TollBoothID              0\n",
              "Lane_Type                0\n",
              "Vehicle_Dimensions       0\n",
              "Transaction_Amount       0\n",
              "Amount_paid              0\n",
              "Geographical_Location    0\n",
              "Vehicle_Speed            0\n",
              "Vehicle_Plate_Number     0\n",
              "Fraud_indicator          0\n",
              "dtype: int64"
            ]
          },
          "metadata": {},
          "execution_count": 102
        }
      ]
    },
    {
      "cell_type": "code",
      "source": [],
      "metadata": {
        "id": "DrNrXAwfg818"
      },
      "execution_count": 102,
      "outputs": []
    },
    {
      "cell_type": "code",
      "source": [
        "plt.figure(figsize=(8,4))\n",
        "sns.boxplot(data=data[['Transaction_Amount','Amount_paid','Vehicle_Speed']])\n",
        "plt.xticks(rotation=90)\n",
        "plt.show()"
      ],
      "metadata": {
        "colab": {
          "base_uri": "https://localhost:8080/",
          "height": 495
        },
        "id": "My8DzncsbyVf",
        "outputId": "f4a8565e-9e4a-42f3-ec1d-1c90ab0e1cb5"
      },
      "execution_count": 103,
      "outputs": [
        {
          "output_type": "display_data",
          "data": {
            "text/plain": [
              "<Figure size 800x400 with 1 Axes>"
            ],
            "image/png": "[encoded data removed]"
          },
          "metadata": {}
        }
      ]
    },
    {
      "cell_type": "code",
      "source": [
        "df = data.loc[data['Fraud_indicator']=='Fraud']"
      ],
      "metadata": {
        "id": "9Axk31Rh6e_A"
      },
      "execution_count": 104,
      "outputs": []
    },
    {
      "cell_type": "markdown",
      "source": [],
      "metadata": {
        "id": "iICLu7UgVjQA"
      }
    },
    {
      "cell_type": "code",
      "source": [
        "df.isnull().sum()"
      ],
      "metadata": {
        "colab": {
          "base_uri": "https://localhost:8080/"
        },
        "id": "-Z-K1b7Q6kL7",
        "outputId": "596143b2-f814-43f0-c639-f2a4eb14e08b"
      },
      "execution_count": 105,
      "outputs": [
        {
          "output_type": "execute_result",
          "data": {
            "text/plain": [
              "Transaction_ID           0\n",
              "Timestamp                0\n",
              "Vehicle_Type             0\n",
              "FastagID                 0\n",
              "TollBoothID              0\n",
              "Lane_Type                0\n",
              "Vehicle_Dimensions       0\n",
              "Transaction_Amount       0\n",
              "Amount_paid              0\n",
              "Geographical_Location    0\n",
              "Vehicle_Speed            0\n",
              "Vehicle_Plate_Number     0\n",
              "Fraud_indicator          0\n",
              "dtype: int64"
            ]
          },
          "metadata": {},
          "execution_count": 105
        }
      ]
    },
    {
      "cell_type": "code",
      "source": [
        "# Create a function that we can re-use\n",
        "def show_distribution(var_data):\n",
        "    '''\n",
        "    This function will make a distribution (graph) and display it\n",
        "    '''\n",
        "\n",
        "    # Get statistics\n",
        "    min_val = var_data.min()\n",
        "    max_val = var_data.max()\n",
        "    mean_val = var_data.mean()\n",
        "    med_val = var_data.median()\n",
        "    mod_val = var_data.mode()[0]\n",
        "\n",
        "    print('Minimum:{:.2f}\\nMean:{:.2f}\\nMedian:{:.2f}\\nMode:{:.2f}\\nMaximum:{:.2f}\\n'.format(min_val,\n",
        "                                                                                            mean_val,\n",
        "                                                                                            med_val,\n",
        "                                                                                            mod_val,\n",
        "                                                                                            max_val))\n",
        "\n",
        "    # Create a figure for 2 subplots (2 rows, 1 column)\n",
        "    fig = plt.figure(figsize = (8,3))\n",
        "\n",
        "    # Plot the histogram\n",
        "    plt.hist(var_data)\n",
        "    plt.xlabel('Fasttag Fee')\n",
        "    plt.ylabel('Occurence')\n",
        "    plt.text(min_val-10, min_val,f\"Minimum: INR{round(min_val)}\")\n",
        "    plt.text(mean_val-10, mean_val,f\"Mean: INR{round(mean_val)}\")\n",
        "    plt.text(med_val-10, med_val,f\"Median: INR{round(med_val)}\")\n",
        "    plt.text(mod_val-10, mod_val,f\"Mode: INR{round(mod_val)}\")\n",
        "    plt.text(max_val-10, max_val-100,f\"Maximum: INR{round(max_val)}\")\n",
        "\n",
        "    # Add lines for the mean, median, and mode\n",
        "    plt.axvline(x=min_val, color = 'gray', linestyle='dashed', linewidth = 2)\n",
        "    plt.axvline(x=mean_val, color = 'cyan', linestyle='dashed', linewidth = 2)\n",
        "    plt.axvline(x=med_val, color = 'red', linestyle='dashed', linewidth = 2)\n",
        "    plt.axvline(x=mod_val, color = 'yellow', linestyle='dashed', linewidth = 2)\n",
        "    plt.axvline(x=max_val, color = 'gray', linestyle='dashed', linewidth = 2)\n",
        "\n",
        "    #ax.text(0, invt['Investment'].mean(),\"Average Investment\", color = \"fuchsia\")\n",
        "\n",
        "    # # Plot the boxplot\n",
        "    # ax[1].boxplot(var_data, vert=False)\n",
        "\n",
        "\n",
        "    # Add a title to the Figure\n",
        "    fig.suptitle('Fastag fraudulent fee transactions in India')\n",
        "\n",
        "    # Add footer text\n",
        "    fig.text(0.5, 0.01, 'Graphics By: NNAEMEKA NEWMAN OKEREAFOR', ha='left', fontsize=7, color='fuchsia')\n",
        "\n",
        "    # Show the figure\n",
        "    fig.show()\n",
        "\n",
        "\n",
        "show_distribution(df['Transaction_Amount'])"
      ],
      "metadata": {
        "colab": {
          "base_uri": "https://localhost:8080/",
          "height": 445
        },
        "id": "0ZpVq34EOAHI",
        "outputId": "cb3d18f4-7d19-4f99-d5f4-1b25d26d68f4"
      },
      "execution_count": 106,
      "outputs": [
        {
          "output_type": "stream",
          "name": "stdout",
          "text": [
            "Minimum:60.00\n",
            "Mean:193.56\n",
            "Median:145.00\n",
            "Mode:120.00\n",
            "Maximum:350.00\n",
            "\n"
          ]
        },
        {
          "output_type": "display_data",
          "data": {
            "text/plain": [
              "<Figure size 800x300 with 1 Axes>"
            ],
            "image/png": "[encoded data removed]"
          },
          "metadata": {}
        }
      ]
    },
    {
      "cell_type": "markdown",
      "source": [
        "# Data Distribution without Outlier"
      ],
      "metadata": {
        "id": "sj8whhpGRJ9z"
      }
    },
    {
      "cell_type": "code",
      "source": [
        "#Function to remove outlier\n",
        "def remove_outliers(df, column):\n",
        "    Q1 = df[column].quantile(0.25)\n",
        "    Q3 = df[column].quantile(0.75)\n",
        "    IQR = Q3 - Q1\n",
        "    lower_bound = Q1 - 1.5 * IQR\n",
        "    upper_bound = Q3 + 1.5 * IQR\n",
        "    return df[(df[column] >= lower_bound) & (df[column] <= upper_bound)]\n",
        "\n",
        "# Remove outliers from the dataset\n",
        "df_no_outliers = remove_outliers(df, 'Transaction_Amount')\n",
        "\n",
        "#df_no_outliers.head()"
      ],
      "metadata": {
        "id": "AvbP8exn6kQd"
      },
      "execution_count": 107,
      "outputs": []
    },
    {
      "cell_type": "code",
      "source": [
        "show_distribution(df_no_outliers['Transaction_Amount'])"
      ],
      "metadata": {
        "colab": {
          "base_uri": "https://localhost:8080/",
          "height": 445
        },
        "id": "iAb-JhJD6kS_",
        "outputId": "3912a6e5-c99b-4be1-c5be-3cf86b2f3193"
      },
      "execution_count": 108,
      "outputs": [
        {
          "output_type": "stream",
          "name": "stdout",
          "text": [
            "Minimum:60.00\n",
            "Mean:193.56\n",
            "Median:145.00\n",
            "Mode:120.00\n",
            "Maximum:350.00\n",
            "\n"
          ]
        },
        {
          "output_type": "display_data",
          "data": {
            "text/plain": [
              "<Figure size 800x300 with 1 Axes>"
            ],
            "image/png": "[encoded data removed]"
          },
          "metadata": {}
        }
      ]
    },
    {
      "cell_type": "markdown",
      "source": [
        "## Hyothesis Testing"
      ],
      "metadata": {
        "id": "lMn4EtAUMG-a"
      }
    },
    {
      "cell_type": "markdown",
      "source": [
        "* Null Hypothesis (Ho): There is no significant difference in the amount paid by those whose transactions were flagged as fraud and those whose transactions were not flagged as fraud.\n",
        "\n",
        "* Alternative Hypothesis (H1): There is a significant difference in the amount paid by those whose transactions were flagged as fraud and those whose transactions were not flagged as fraud.\n",
        "\n"
      ],
      "metadata": {
        "id": "cEw7jlCtZUmh"
      }
    },
    {
      "cell_type": "code",
      "source": [
        "#Average Transaction amount for non-fraudulent transactions\n",
        "data['Transaction_Amount'].mean()"
      ],
      "metadata": {
        "colab": {
          "base_uri": "https://localhost:8080/"
        },
        "id": "e77pHe4PdtGF",
        "outputId": "4eaf1ee7-4879-4c00-e3df-f0442fbd0385"
      },
      "execution_count": 109,
      "outputs": [
        {
          "output_type": "execute_result",
          "data": {
            "text/plain": [
              "187.89314045730285"
            ]
          },
          "metadata": {},
          "execution_count": 109
        }
      ]
    },
    {
      "cell_type": "code",
      "source": [
        "fraud_transactions = data[data['Fraud_indicator']=='Fraud']['Transaction_Amount']\n",
        "non_fraud_transactions = data[data['Fraud_indicator']=='Not Fraud']['Transaction_Amount']\n",
        "\n",
        "#Perform Independent Sample T-test\n",
        "t_stats = ttest_ind(fraud_transactions,non_fraud_transactions)\n",
        "print(t_stats)"
      ],
      "metadata": {
        "colab": {
          "base_uri": "https://localhost:8080/"
        },
        "id": "YWDl5e5AdtC9",
        "outputId": "85e947a0-24fc-47fd-ff3d-9aab48323d44"
      },
      "execution_count": 110,
      "outputs": [
        {
          "output_type": "stream",
          "name": "stdout",
          "text": [
            "TtestResult(statistic=2.053087702245118, pvalue=0.040124670104217094, df=4284.0)\n"
          ]
        }
      ]
    },
    {
      "cell_type": "markdown",
      "source": [
        "Reject the NULL Hypothesis because the p-value is < 0.05. We do have enough evidence to reject the null hypothesis."
      ],
      "metadata": {
        "id": "jX99ewl-GTOH"
      }
    },
    {
      "cell_type": "code",
      "source": [
        "# Create a function that we can re-use\n",
        "# def show_distribution(var_data):\n",
        "#     '''\n",
        "#     This function will make a distribution (graph) and display it\n",
        "#     '''\n",
        "\n",
        "#     # Get statistics\n",
        "#     min_val = var_data.min()\n",
        "#     max_val = var_data.max()\n",
        "#     mean_val = var_data.mean()\n",
        "#     med_val = var_data.median()\n",
        "#     mod_val = var_data.mode()[0]\n",
        "\n",
        "#     print('Minimum:{:.2f}\\nMean:{:.2f}\\nMedian:{:.2f}\\nMode:{:.2f}\\nMaximum:{:.2f}\\n'.format(min_val,\n",
        "#                                                                                             mean_val,\n",
        "#                                                                                             med_val,\n",
        "#                                                                                             mod_val,\n",
        "#                                                                                             max_val))\n",
        "\n",
        "#     # Create a figure for 2 subplots (2 rows, 1 column)\n",
        "#     fig, ax = plt.subplots(2, 1, figsize = (10,4))\n",
        "\n",
        "#     # Plot the histogram\n",
        "#     ax[0].hist(var_data)\n",
        "#     ax[0].set_ylabel('Frequency')\n",
        "#     ax[0].text(min_val-10, min_val,f\"(Minimum: INR{round(min_val)})\")\n",
        "#     ax[0].text(mean_val-10, mean_val,f\"(Mean: INR{round(mean_val)})\")\n",
        "#     ax[0].text(med_val-10, med_val,f\"(Median: INR{round(med_val)})\")\n",
        "#     ax[0].text(mod_val-10, mod_val,f\"(Mode: INR{round(mod_val)})\")\n",
        "#     ax[0].text(max_val-10, max_val,f\"(Maximum: INR{round(max_val)})\")\n",
        "\n",
        "#     # Add lines for the mean, median, and mode\n",
        "#     ax[0].axvline(x=min_val, color = 'gray', linestyle='dashed', linewidth = 2)\n",
        "#     ax[0].axvline(x=mean_val, color = 'cyan', linestyle='dashed', linewidth = 2)\n",
        "#     ax[0].axvline(x=med_val, color = 'red', linestyle='dashed', linewidth = 2)\n",
        "#     ax[0].axvline(x=mod_val, color = 'yellow', linestyle='dashed', linewidth = 2)\n",
        "#     ax[0].axvline(x=max_val, color = 'gray', linestyle='dashed', linewidth = 2)\n",
        "\n",
        "#     #ax.text(0, invt['Investment'].mean(),\"Average Investment\", color = \"fuchsia\")\n",
        "\n",
        "#     # Plot the boxplot\n",
        "#     ax[1].boxplot(var_data, vert=False)\n",
        "#     ax[1].set_xlabel('Transaction')\n",
        "\n",
        "#     # Add a title to the Figure\n",
        "#     fig.suptitle('Data distribution for transactions that flagged as fraudulent')\n",
        "#      # Add footer text\n",
        "#     #fig.text(0.5, 0.01, 'Graphics By: NNAEMEKA NEWMAN OKEREAFOR', ha='left', fontsize=7, color='fuchsia')\n",
        "\n",
        "#     # Show the figure\n",
        "#     fig.show()\n",
        "\n",
        "\n",
        "# show_distribution(df['Transaction_Amount'])"
      ],
      "metadata": {
        "id": "d2dVOTuq6kWW"
      },
      "execution_count": 111,
      "outputs": []
    }
  ]
}